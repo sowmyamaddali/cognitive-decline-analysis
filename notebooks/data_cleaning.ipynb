{
 "cells": [
  {
   "cell_type": "code",
   "execution_count": 1,
   "id": "a5f6f4a0-3987-471d-b635-b9891526c00b",
   "metadata": {},
   "outputs": [],
   "source": [
    "# import libraries\n",
    "import pandas as pd\n",
    "import numpy as np\n",
    "import matplotlib.pyplot as plt\n",
    "import seaborn as sns\n",
    "\n",
    "%matplotlib inline"
   ]
  },
  {
   "cell_type": "code",
   "execution_count": 2,
   "id": "97d4bb01-9c62-4d11-8ecf-b800e546ed1b",
   "metadata": {},
   "outputs": [
    {
     "data": {
      "text/html": [
       "<div>\n",
       "<style scoped>\n",
       "    .dataframe tbody tr th:only-of-type {\n",
       "        vertical-align: middle;\n",
       "    }\n",
       "\n",
       "    .dataframe tbody tr th {\n",
       "        vertical-align: top;\n",
       "    }\n",
       "\n",
       "    .dataframe thead th {\n",
       "        text-align: right;\n",
       "    }\n",
       "</style>\n",
       "<table border=\"1\" class=\"dataframe\">\n",
       "  <thead>\n",
       "    <tr style=\"text-align: right;\">\n",
       "      <th></th>\n",
       "      <th>YearStart</th>\n",
       "      <th>YearEnd</th>\n",
       "      <th>LocationAbbr</th>\n",
       "      <th>LocationDesc</th>\n",
       "      <th>Datasource</th>\n",
       "      <th>Class</th>\n",
       "      <th>Topic</th>\n",
       "      <th>Question</th>\n",
       "      <th>Data_Value_Unit</th>\n",
       "      <th>DataValueTypeID</th>\n",
       "      <th>...</th>\n",
       "      <th>Stratification2</th>\n",
       "      <th>Geolocation</th>\n",
       "      <th>ClassID</th>\n",
       "      <th>TopicID</th>\n",
       "      <th>QuestionID</th>\n",
       "      <th>LocationID</th>\n",
       "      <th>StratificationCategoryID1</th>\n",
       "      <th>StratificationID1</th>\n",
       "      <th>StratificationCategoryID2</th>\n",
       "      <th>StratificationID2</th>\n",
       "    </tr>\n",
       "  </thead>\n",
       "  <tbody>\n",
       "    <tr>\n",
       "      <th>0</th>\n",
       "      <td>2022</td>\n",
       "      <td>2022</td>\n",
       "      <td>AZ</td>\n",
       "      <td>Arizona</td>\n",
       "      <td>BRFSS</td>\n",
       "      <td>Cognitive Decline</td>\n",
       "      <td>Functional difficulties associated with subjec...</td>\n",
       "      <td>Percentage of older adults who reported subjec...</td>\n",
       "      <td>%</td>\n",
       "      <td>PRCTG</td>\n",
       "      <td>...</td>\n",
       "      <td>Female</td>\n",
       "      <td>POINT (-111.7638113 34.86597028)</td>\n",
       "      <td>C06</td>\n",
       "      <td>TCC02</td>\n",
       "      <td>Q31</td>\n",
       "      <td>4</td>\n",
       "      <td>AGE</td>\n",
       "      <td>AGE_OVERALL</td>\n",
       "      <td>GENDER</td>\n",
       "      <td>FEMALE</td>\n",
       "    </tr>\n",
       "    <tr>\n",
       "      <th>1</th>\n",
       "      <td>2022</td>\n",
       "      <td>2022</td>\n",
       "      <td>AZ</td>\n",
       "      <td>Arizona</td>\n",
       "      <td>BRFSS</td>\n",
       "      <td>Cognitive Decline</td>\n",
       "      <td>Functional difficulties associated with subjec...</td>\n",
       "      <td>Percentage of older adults who reported subjec...</td>\n",
       "      <td>%</td>\n",
       "      <td>PRCTG</td>\n",
       "      <td>...</td>\n",
       "      <td>Hispanic</td>\n",
       "      <td>POINT (-111.7638113 34.86597028)</td>\n",
       "      <td>C06</td>\n",
       "      <td>TCC02</td>\n",
       "      <td>Q31</td>\n",
       "      <td>4</td>\n",
       "      <td>AGE</td>\n",
       "      <td>5064</td>\n",
       "      <td>RACE</td>\n",
       "      <td>HIS</td>\n",
       "    </tr>\n",
       "    <tr>\n",
       "      <th>2</th>\n",
       "      <td>2022</td>\n",
       "      <td>2022</td>\n",
       "      <td>AZ</td>\n",
       "      <td>Arizona</td>\n",
       "      <td>BRFSS</td>\n",
       "      <td>Cognitive Decline</td>\n",
       "      <td>Functional difficulties associated with subjec...</td>\n",
       "      <td>Percentage of older adults who reported subjec...</td>\n",
       "      <td>%</td>\n",
       "      <td>PRCTG</td>\n",
       "      <td>...</td>\n",
       "      <td>White, non-Hispanic</td>\n",
       "      <td>POINT (-111.7638113 34.86597028)</td>\n",
       "      <td>C06</td>\n",
       "      <td>TCC02</td>\n",
       "      <td>Q31</td>\n",
       "      <td>4</td>\n",
       "      <td>AGE</td>\n",
       "      <td>65PLUS</td>\n",
       "      <td>RACE</td>\n",
       "      <td>WHT</td>\n",
       "    </tr>\n",
       "    <tr>\n",
       "      <th>3</th>\n",
       "      <td>2022</td>\n",
       "      <td>2022</td>\n",
       "      <td>AZ</td>\n",
       "      <td>Arizona</td>\n",
       "      <td>BRFSS</td>\n",
       "      <td>Cognitive Decline</td>\n",
       "      <td>Functional difficulties associated with subjec...</td>\n",
       "      <td>Percentage of older adults who reported subjec...</td>\n",
       "      <td>%</td>\n",
       "      <td>PRCTG</td>\n",
       "      <td>...</td>\n",
       "      <td>Native Am/Alaskan Native</td>\n",
       "      <td>POINT (-111.7638113 34.86597028)</td>\n",
       "      <td>C06</td>\n",
       "      <td>TCC02</td>\n",
       "      <td>Q31</td>\n",
       "      <td>4</td>\n",
       "      <td>AGE</td>\n",
       "      <td>65PLUS</td>\n",
       "      <td>RACE</td>\n",
       "      <td>NAA</td>\n",
       "    </tr>\n",
       "    <tr>\n",
       "      <th>4</th>\n",
       "      <td>2022</td>\n",
       "      <td>2022</td>\n",
       "      <td>AZ</td>\n",
       "      <td>Arizona</td>\n",
       "      <td>BRFSS</td>\n",
       "      <td>Cognitive Decline</td>\n",
       "      <td>Functional difficulties associated with subjec...</td>\n",
       "      <td>Percentage of older adults who reported subjec...</td>\n",
       "      <td>%</td>\n",
       "      <td>PRCTG</td>\n",
       "      <td>...</td>\n",
       "      <td>Black, non-Hispanic</td>\n",
       "      <td>POINT (-111.7638113 34.86597028)</td>\n",
       "      <td>C06</td>\n",
       "      <td>TCC02</td>\n",
       "      <td>Q31</td>\n",
       "      <td>4</td>\n",
       "      <td>AGE</td>\n",
       "      <td>AGE_OVERALL</td>\n",
       "      <td>RACE</td>\n",
       "      <td>BLK</td>\n",
       "    </tr>\n",
       "  </tbody>\n",
       "</table>\n",
       "<p>5 rows × 30 columns</p>\n",
       "</div>"
      ],
      "text/plain": [
       "   YearStart  YearEnd LocationAbbr LocationDesc Datasource              Class  \\\n",
       "0       2022     2022           AZ      Arizona      BRFSS  Cognitive Decline   \n",
       "1       2022     2022           AZ      Arizona      BRFSS  Cognitive Decline   \n",
       "2       2022     2022           AZ      Arizona      BRFSS  Cognitive Decline   \n",
       "3       2022     2022           AZ      Arizona      BRFSS  Cognitive Decline   \n",
       "4       2022     2022           AZ      Arizona      BRFSS  Cognitive Decline   \n",
       "\n",
       "                                               Topic  \\\n",
       "0  Functional difficulties associated with subjec...   \n",
       "1  Functional difficulties associated with subjec...   \n",
       "2  Functional difficulties associated with subjec...   \n",
       "3  Functional difficulties associated with subjec...   \n",
       "4  Functional difficulties associated with subjec...   \n",
       "\n",
       "                                            Question Data_Value_Unit  \\\n",
       "0  Percentage of older adults who reported subjec...               %   \n",
       "1  Percentage of older adults who reported subjec...               %   \n",
       "2  Percentage of older adults who reported subjec...               %   \n",
       "3  Percentage of older adults who reported subjec...               %   \n",
       "4  Percentage of older adults who reported subjec...               %   \n",
       "\n",
       "  DataValueTypeID  ...           Stratification2  \\\n",
       "0           PRCTG  ...                    Female   \n",
       "1           PRCTG  ...                  Hispanic   \n",
       "2           PRCTG  ...       White, non-Hispanic   \n",
       "3           PRCTG  ...  Native Am/Alaskan Native   \n",
       "4           PRCTG  ...       Black, non-Hispanic   \n",
       "\n",
       "                        Geolocation  ClassID TopicID QuestionID  LocationID  \\\n",
       "0  POINT (-111.7638113 34.86597028)      C06   TCC02        Q31           4   \n",
       "1  POINT (-111.7638113 34.86597028)      C06   TCC02        Q31           4   \n",
       "2  POINT (-111.7638113 34.86597028)      C06   TCC02        Q31           4   \n",
       "3  POINT (-111.7638113 34.86597028)      C06   TCC02        Q31           4   \n",
       "4  POINT (-111.7638113 34.86597028)      C06   TCC02        Q31           4   \n",
       "\n",
       "   StratificationCategoryID1 StratificationID1 StratificationCategoryID2  \\\n",
       "0                        AGE       AGE_OVERALL                    GENDER   \n",
       "1                        AGE              5064                      RACE   \n",
       "2                        AGE            65PLUS                      RACE   \n",
       "3                        AGE            65PLUS                      RACE   \n",
       "4                        AGE       AGE_OVERALL                      RACE   \n",
       "\n",
       "  StratificationID2  \n",
       "0            FEMALE  \n",
       "1               HIS  \n",
       "2               WHT  \n",
       "3               NAA  \n",
       "4               BLK  \n",
       "\n",
       "[5 rows x 30 columns]"
      ]
     },
     "execution_count": 2,
     "metadata": {},
     "output_type": "execute_result"
    }
   ],
   "source": [
    "# Load the dataset\n",
    "file_path = \"../data/Alzheimer_s_Disease_and_Healthy_Aging_Indicators__Cognitive_Decline_20250131.csv\"\n",
    "df = pd.read_csv(file_path)\n",
    "\n",
    "# display the first few rows\n",
    "df.head()"
   ]
  },
  {
   "cell_type": "code",
   "execution_count": 3,
   "id": "83b2c53f-adac-40c4-b04f-7a4fc8dca6de",
   "metadata": {},
   "outputs": [
    {
     "name": "stdout",
     "output_type": "stream",
     "text": [
      "<class 'pandas.core.frame.DataFrame'>\n",
      "RangeIndex: 22182 entries, 0 to 22181\n",
      "Data columns (total 30 columns):\n",
      " #   Column                      Non-Null Count  Dtype  \n",
      "---  ------                      --------------  -----  \n",
      " 0   YearStart                   22182 non-null  int64  \n",
      " 1   YearEnd                     22182 non-null  int64  \n",
      " 2   LocationAbbr                22182 non-null  object \n",
      " 3   LocationDesc                22182 non-null  object \n",
      " 4   Datasource                  22182 non-null  object \n",
      " 5   Class                       22182 non-null  object \n",
      " 6   Topic                       22182 non-null  object \n",
      " 7   Question                    22182 non-null  object \n",
      " 8   Data_Value_Unit             22182 non-null  object \n",
      " 9   DataValueTypeID             22182 non-null  object \n",
      " 10  Data_Value_Type             22182 non-null  object \n",
      " 11  Data_Value                  14136 non-null  float64\n",
      " 12  Data_Value_Alt              14136 non-null  float64\n",
      " 13  Data_Value_Footnote_Symbol  12158 non-null  object \n",
      " 14  Data_Value_Footnote         12158 non-null  object \n",
      " 15  Low_Confidence_Limit        14039 non-null  float64\n",
      " 16  High_Confidence_Limit       14039 non-null  float64\n",
      " 17  StratificationCategory1     22182 non-null  object \n",
      " 18  Stratification1             22182 non-null  object \n",
      " 19  StratificationCategory2     19146 non-null  object \n",
      " 20  Stratification2             19146 non-null  object \n",
      " 21  Geolocation                 17973 non-null  object \n",
      " 22  ClassID                     22182 non-null  object \n",
      " 23  TopicID                     22182 non-null  object \n",
      " 24  QuestionID                  22182 non-null  object \n",
      " 25  LocationID                  22182 non-null  int64  \n",
      " 26  StratificationCategoryID1   22182 non-null  object \n",
      " 27  StratificationID1           22182 non-null  object \n",
      " 28  StratificationCategoryID2   22182 non-null  object \n",
      " 29  StratificationID2           22182 non-null  object \n",
      "dtypes: float64(4), int64(3), object(23)\n",
      "memory usage: 5.1+ MB\n"
     ]
    }
   ],
   "source": [
    "# get general information about the dataset\n",
    "df.info()"
   ]
  },
  {
   "cell_type": "code",
   "execution_count": 4,
   "id": "468fc7f2-e18c-40c3-ab33-9dd914c35cbf",
   "metadata": {},
   "outputs": [
    {
     "data": {
      "text/plain": [
       "array([2022, 2021, 2020, 2019, 2018, 2017, 2016, 2015])"
      ]
     },
     "execution_count": 4,
     "metadata": {},
     "output_type": "execute_result"
    }
   ],
   "source": [
    "df[\"YearStart\"].unique()"
   ]
  },
  {
   "cell_type": "code",
   "execution_count": 5,
   "id": "93b8ea47-1863-4de3-a1e0-147650aba6ec",
   "metadata": {},
   "outputs": [
    {
     "data": {
      "text/plain": [
       "array([2022, 2021, 2020, 2019, 2018, 2017, 2016, 2015])"
      ]
     },
     "execution_count": 5,
     "metadata": {},
     "output_type": "execute_result"
    }
   ],
   "source": [
    "df[\"YearEnd\"].unique()"
   ]
  },
  {
   "cell_type": "code",
   "execution_count": 6,
   "id": "78dadb4e-f6bf-4575-9d4d-0bbe54087bd6",
   "metadata": {},
   "outputs": [
    {
     "data": {
      "text/plain": [
       "array(['AZ', 'CA', 'CT', 'FL', 'IA', 'ID', 'IN', 'MDW', 'ME', 'MI', 'NRE',\n",
       "       'NV', 'OH', 'OR', 'RI', 'SC', 'SOU', 'US', 'UT', 'VA', 'VT',\n",
       "       'WEST', 'WI', 'CO', 'DC', 'GA', 'HI', 'MD', 'MS', 'NY', 'OK', 'PA',\n",
       "       'TN', 'TX', 'AK', 'AR', 'DE', 'IL', 'KY', 'NC', 'NH', 'PR', 'WA',\n",
       "       'WY', 'AL', 'KS', 'LA', 'MN', 'MO', 'ND', 'NE', 'NM', 'SD', 'WV',\n",
       "       'NJ', 'MA', 'MT'], dtype=object)"
      ]
     },
     "execution_count": 6,
     "metadata": {},
     "output_type": "execute_result"
    }
   ],
   "source": [
    "df[\"LocationAbbr\"].unique()"
   ]
  },
  {
   "cell_type": "code",
   "execution_count": 7,
   "id": "3f939957-a988-4d03-8793-c26d8fdfb99e",
   "metadata": {},
   "outputs": [
    {
     "data": {
      "text/plain": [
       "array(['Arizona', 'California', 'Connecticut', 'Florida', 'Iowa', 'Idaho',\n",
       "       'Indiana', 'Midwest', 'Maine', 'Michigan', 'Northeast', 'Nevada',\n",
       "       'Ohio', 'Oregon', 'Rhode Island', 'South Carolina', 'South',\n",
       "       'United States, DC & Territories', 'Utah', 'Virginia', 'Vermont',\n",
       "       'West', 'Wisconsin', 'Colorado', 'District of Columbia', 'Georgia',\n",
       "       'Hawaii', 'Maryland', 'Mississippi', 'New York', 'Oklahoma',\n",
       "       'Pennsylvania', 'Tennessee', 'Texas', 'Alaska', 'Arkansas',\n",
       "       'Delaware', 'Illinois', 'Kentucky', 'North Carolina',\n",
       "       'New Hampshire', 'Puerto Rico', 'Washington', 'Wyoming', 'Alabama',\n",
       "       'Kansas', 'Louisiana', 'Minnesota', 'Missouri', 'North Dakota',\n",
       "       'Nebraska', 'New Mexico', 'South Dakota', 'West Virginia',\n",
       "       'New Jersey', 'Massachusetts', 'Montana'], dtype=object)"
      ]
     },
     "execution_count": 7,
     "metadata": {},
     "output_type": "execute_result"
    }
   ],
   "source": [
    "df[\"LocationDesc\"].unique()"
   ]
  },
  {
   "cell_type": "code",
   "execution_count": 8,
   "id": "f41835e3-f081-44bc-a14c-ce5b56d9adff",
   "metadata": {},
   "outputs": [
    {
     "data": {
      "text/plain": [
       "array(['BRFSS'], dtype=object)"
      ]
     },
     "execution_count": 8,
     "metadata": {},
     "output_type": "execute_result"
    }
   ],
   "source": [
    "df[\"Datasource\"].unique()"
   ]
  },
  {
   "cell_type": "code",
   "execution_count": 9,
   "id": "17be268b-b5f2-4a41-ab91-00667feb9985",
   "metadata": {},
   "outputs": [
    {
     "data": {
      "text/plain": [
       "array(['Cognitive Decline'], dtype=object)"
      ]
     },
     "execution_count": 9,
     "metadata": {},
     "output_type": "execute_result"
    }
   ],
   "source": [
    "df[\"Class\"].unique()"
   ]
  },
  {
   "cell_type": "code",
   "execution_count": 39,
   "id": "8dda816d-7492-45c2-9ced-64abeca6f368",
   "metadata": {},
   "outputs": [
    {
     "data": {
      "text/plain": [
       "array(['Functional difficulties associated with subjective cognitive decline or memory loss among older adults',\n",
       "       'Need assistance with day-to-day activities because of subjective cognitive decline or memory loss',\n",
       "       'Subjective cognitive decline or memory loss among older adults',\n",
       "       'Talked with health care professional about subjective cognitive decline or memory loss'],\n",
       "      dtype=object)"
      ]
     },
     "execution_count": 39,
     "metadata": {},
     "output_type": "execute_result"
    }
   ],
   "source": [
    "df[\"Topic\"].unique()"
   ]
  },
  {
   "cell_type": "code",
   "execution_count": 11,
   "id": "ca71cf59-017f-4219-b75e-4aba047488fe",
   "metadata": {},
   "outputs": [
    {
     "data": {
      "text/plain": [
       "array(['Percentage of older adults who reported subjective cognitive decline or memory loss that interferes with their ability to engage in social activities or household chores',\n",
       "       'Percentage of older adults who reported that as a result of subjective cognitive decline or memory loss that they need assistance with day-to-day activities',\n",
       "       'Percentage of older adults who reported subjective cognitive decline or memory loss that is happening more often or is getting worse in the preceding 12 months',\n",
       "       'Percentage of older adults with subjective cognitive decline or memory loss who reported talking with a health care professional about it'],\n",
       "      dtype=object)"
      ]
     },
     "execution_count": 11,
     "metadata": {},
     "output_type": "execute_result"
    }
   ],
   "source": [
    "df[\"Question\"].unique()"
   ]
  },
  {
   "cell_type": "code",
   "execution_count": 12,
   "id": "06350262-a803-478d-8764-c3471f3aeb21",
   "metadata": {},
   "outputs": [
    {
     "data": {
      "text/plain": [
       "array(['%'], dtype=object)"
      ]
     },
     "execution_count": 12,
     "metadata": {},
     "output_type": "execute_result"
    }
   ],
   "source": [
    "df[\"Data_Value_Unit\"].unique()"
   ]
  },
  {
   "cell_type": "code",
   "execution_count": 15,
   "id": "7f254781-78f7-4810-9e2a-fba674d74513",
   "metadata": {},
   "outputs": [
    {
     "data": {
      "text/plain": [
       "array(['PRCTG'], dtype=object)"
      ]
     },
     "execution_count": 15,
     "metadata": {},
     "output_type": "execute_result"
    }
   ],
   "source": [
    "df[\"DataValueTypeID\"].unique()"
   ]
  },
  {
   "cell_type": "code",
   "execution_count": 16,
   "id": "120badfb-3c9d-4aef-9030-3e0bd81bccf1",
   "metadata": {},
   "outputs": [
    {
     "data": {
      "text/plain": [
       "array(['Percentage'], dtype=object)"
      ]
     },
     "execution_count": 16,
     "metadata": {},
     "output_type": "execute_result"
    }
   ],
   "source": [
    "df[\"Data_Value_Type\"].unique()"
   ]
  },
  {
   "cell_type": "code",
   "execution_count": 17,
   "id": "61035de3-f476-4e73-9bd7-43ba51af5354",
   "metadata": {},
   "outputs": [
    {
     "data": {
      "text/plain": [
       "array([ 31.6,   nan,  19.9,  16.3,  24.6,  20.5,  33.7,  26.6,  24.3,\n",
       "        40. ,  35.8,  20.3,  28.3,  38.7,  39.4,  34. ,  40.4,  45.7,\n",
       "        42. ,  37.8,  25.2,  19.5,  41.3,  29.2,  33.8,  42.5,  26.3,\n",
       "        39.9,  26.5,  30.8,  37.4,  23.9,  37.5,  38.9,  35.4,  37.6,\n",
       "        46.2,  41. ,  31.5,  32.8,  37.1,  35.3,  30.5,  30.7,  34.1,\n",
       "        29.3,  30.3,  35.6,  33.3,  27.8,  32.3,  30.1,  44.8,  34.9,\n",
       "        27.5,  50.3,  22.5,  21.6,  15.2,  30.4,  36.6,  41.8,  24.5,\n",
       "        33.6,  45.4,  21.8,  27.7,  33.1,  44. ,  48. ,  29.1,  50. ,\n",
       "        42.1,  38.2,  44.7,  37.2,  97. ,  48.4,  47.3,  36.3,  44.6,\n",
       "        43.2,  32.9,  28. ,  32.4,  34.5, 100. ,  37.7,  43.3,  64.6,\n",
       "        91.8,  57.1,  52.5,  30.2,  39.8,  28.2,  23.5,  31.2,  45.2,\n",
       "        40.3,  29.5,  23.3,  25.8,  36. ,  46.9,  30.9,  47.1,  37.9,\n",
       "        22.1,  41.7,   4.2,  42.2,  67.2,  34.3,  28.5,  51.8,  82.8,\n",
       "        58.1,  86.9,  98. ,  58.2,  28.8,  34.6,  27.3,  54.8,  28.1,\n",
       "        59.2,  58.9,  21.2,  38.3,  47.7,  35.2,  27.6,  32. ,  39.3,\n",
       "        42.3,  33.2,  48.7,  36.1,  33.4,  27.2,  29.4,  22.8,  34.7,\n",
       "        20.8,  41.6,  41.1,  50.8,  41.5,  37.3,  34.2,  61.8,  62.8,\n",
       "        48.1,  44.5,  52.4,  50.7,   0. ,   6.8,  60.4,  33. ,  53. ,\n",
       "        68.1,  40.8,  76.1,  42.7,  45.8,  43. ,  49.3,  63.4,  40.6,\n",
       "        31.1,  54.5,  46.6,  27.1,  46.8,  60.2,  45.9,  58.3,  26.8,\n",
       "        56. ,  50.2,  53.1,  39.7,  75.7,  36.7,  54.2,  32.5,  29.9,\n",
       "        45.3,  29.7,  19.6,  26.7,  19.7,  24.7,  30. ,  16.6,  40.9,\n",
       "        21.9,  22.4,  25.5,  36.8,  52.2,  92.3,  26. ,  43.4,   7.5,\n",
       "        43.1,  55.9,  32.6,  26.2,  27. ,  51.4,  22.2,  49.4,  18.9,\n",
       "        17.9,  24.4,  15.5,  28.9,  35.1,  25.6,  32.2,  31.8,  42.8,\n",
       "        21.1,  31.7,  38.4,  28.6,  38.6,  24.1,  29.8,  23.8,  35.7,\n",
       "        27.4,  28.4,  18.8,  21.3,  20.1,  51. ,  39.6,  33.9,  58.8,\n",
       "        30.6,  25.9,  25.1,  65.5,  41.4,  18.6,  23.2,  25.4,  19.3,\n",
       "        38.8,  39.5,  25. ,  46.1,   2.3,   2.4,  24.8,  89. ,  64.1,\n",
       "        59.5,  48.6,  29.6,  62.7,  22.9,  46.7,  26.1,  17.1,  18.5,\n",
       "        29. ,  31.4,  17.5,  17.8,  17.4,  23.7,  42.6,  37. ,  48.9,\n",
       "        32.1,  23.4,  40.1,  71.5,  52.6,  35. ,  38.5,  34.4,  56.3,\n",
       "        31.3,  43.8,  31. ,   3.8,  39. ,  23.6,  44.1,  73.6,  32.7,\n",
       "        56.8,  13.8,  21.5,  22.6,  26.4,  24. ,  19.8,  31.9,  20.4,\n",
       "        19. ,  13.5,  21. ,  14.9,  93.2,  25.3,  21.7,  26.9,  45. ,\n",
       "         9.3,   0.4,  68. ,  19.1,  22. ,  15.3,  11.9,   9.8,  12.7,\n",
       "        16.5,  15.4,  10.2,  14.5,  15.6,  19.4,  12.9,  15. ,  18.7,\n",
       "        13.1,  10.4,  11. ,   8.9,   9.9,  10.9,   8.7,   7.7,   9.4,\n",
       "        13.3,  12.3,  11.2,  12.5,  16.1,  14.3,   7.9,  15.7,  10.1,\n",
       "        11.1,  10.7,  12.1,  16.8,  11.3,  12.2,  11.7,  18.3,  11.5,\n",
       "        10. ,   9.2,  12. ,   6.7,  13.4,  10.3,  13. ,   8.5,   9.6,\n",
       "        12.6,   9.5,  13.6,   9. ,  12.4,   8.6,   9.7,  11.4,  13.7,\n",
       "        10.8,  11.8,   4.7,   9.1,   1.4,  10.6,  10.5,   8.8,  11.6,\n",
       "         8.2,   6.3,  50.1,  14.1,   6.6,  20.2,  13.2,  14.8,  12.8,\n",
       "        17. ,   5.7,   8. ,   6.9,   8.4,   6. ,  17.6,  17.3,   7.8,\n",
       "        15.8,   8.1,  14.2,  41.2,  49.6,  27.9,  36.2,  36.4,  50.9,\n",
       "        44.3,  52.9,  39.1,  46.5,  51.1,  49.8,  54.7,  50.6,  53.2,\n",
       "        43.5,  48.3,  44.4,  45.5,  52. ,  51.7,  57.5,  52.1,  52.3,\n",
       "        47.6,  56.9,  40.2,  42.4,   6.4,   7.4,  59.1,  62.5,  63.8,\n",
       "        63.6,  50.5,  47.8,  57.4,  44.9,  48.2,  67.9,  60. ,  47.9,\n",
       "        60.1,  52.7,  54. ,  55.7,  45.1,  48.5,  58.6,  61.3,  54.9,\n",
       "        90.7,  49.1,  55.5,   1.2,  63.5,  38.1,  23. ,  36.9,  53.8,\n",
       "        53.9,  47.4,  70. ,  49.9,  62.4,  57.7,  47.2,  47.5,  43.9,\n",
       "        54.4,  55.2,  58.4,  51.9,  50.4,  58. ,  34.8,  43.7,  44.2,\n",
       "        56.5,  28.7,  49.7,  46.4,  47. ,  83.9,  73.7,  59.6,  43.6,\n",
       "        54.3,  49. ,  52.8,  61.9,  60.7,  53.5,  61.7,  61.5,  72.9,\n",
       "         2.1,  18.2,  40.5,  15.1,  57.6,  42.9,  46. ,  40.7,  35.5,\n",
       "        41.9,  25.7,  35.9,  49.5,  87.6,  59.9,   2.6,  45.6,  46.3,\n",
       "        94.3,  72.4,  55.1,  74.2,  38. ,  53.7,  56.7,  80.7,  60.9,\n",
       "        56.1,  70.2,  55. ,  60.3,  80.8,  20.9,  22.7,  17.7,  16.4,\n",
       "        90.2,  53.4,  36.5,  54.6,  63.2,  95.7,  51.3,  88.7,  51.6,\n",
       "        58.5,  24.2,  20. ,  18.1,  61.1,  74.9,  82.2,  66.4,  39.2,\n",
       "        87.9,  62.9,  51.2,  16.7,   6.5,  60.5,  16.2,  14. ,  14.4,\n",
       "        19.2,  17.2,   8.3,  15.9,  14.7,  16. ,  18. ,   1.7,   3.5,\n",
       "        13.9,  22.3,  14.6,  16.9,  18.4,  33.5,  58.7,  72.3,  80.2,\n",
       "         5.1,  89.6,  61.4,  84.5,  54.1,  48.8,  55.8,  21.4,  86.1,\n",
       "        56.2,  92.6,  55.3,  49.2,  57.2,  62.3,   7. ,  69.1,  63.3,\n",
       "        64.8,  65.3,  63.1,  56.6,  69.8,   5.5,  85.5,  74.1,  20.7,\n",
       "        84.3,  99.1,  79.9,  67.3,  66.9,  78.9,  98.4,  51.5,  61. ,\n",
       "        61.2,  93.7,  60.6,  66.7,  64.7,  78. ,  20.6,  56.4,  73.9,\n",
       "        66.2,  69.2,  65.9,  70.6,  72.5,   5.6,   5.9,   5.4,   6.1,\n",
       "         7.1,   5. ,   3.6,   4.9,   3.9,   7.2,   6.2,   7.6,   7.3,\n",
       "         4.3,   4.6,   3.3,   5.3,   4.8,   2.9,   2.5,   1.8,   3.4,\n",
       "         2.2,   3.1,   5.8,   3.7,  53.6,  65.2,  67.5,  70.7,  55.6,\n",
       "        65.8,  64.9,  65.4,  59.4,  55.4,  81.4,  68.4,  62.6,  82.9,\n",
       "        70.5,  82.7,  74.6,  53.3,  57. ,  59. ,  83.3,  74.3,  99.7,\n",
       "        76.3,  77.2,  66.6,  75.1,  75. ,  66.1,  61.6,  65.1,  57.8,\n",
       "        74.8,  67.4,  59.7,  64.4,  59.8,  23.1,  63. ,  57.3,  72.2,\n",
       "        73.1,  73.3,  68.6,  64. ,   0.7,  65.6,  24.9,  64.5,   4. ,\n",
       "         2.8,  60.8,  69.4,  62. ,  71.9,  62.2,  68.9,  71.1,  86.4,\n",
       "        59.3,  80.3,  64.2,  80.1,  66.5,  79.8,  75.5,  87.8,  86.3,\n",
       "        69.5,  86.2,  68.8,  91.1,  83.7,  85.1,  72.7,  96. ,  75.2,\n",
       "        78.6,  78.4,  66.3,   1.9,   5.2,   1. ,   4.1,  74.4,  72.6,\n",
       "        71.3,  71.6,  84.4,  70.1,  76.8,  72.8,  73. ,  66.8,  77.8,\n",
       "         2. ,  92.5,  92.2,  69.7,  64.3,  66. ,  57.9,  74. ,   2.7,\n",
       "        63.9,  74.7,  65. ,  79.4,  69. ,  69.9,  62.1,  68.5,  70.9,\n",
       "        81.9,  80.9,  63.7,  81.8,  71.4,  85.9,  72. ,  77.4,  67.1,\n",
       "        76.7,  74.5,  68.3,  78.2,  77.6,  77. ])"
      ]
     },
     "execution_count": 17,
     "metadata": {},
     "output_type": "execute_result"
    }
   ],
   "source": [
    "df[\"Data_Value\"].unique()"
   ]
  },
  {
   "cell_type": "code",
   "execution_count": 18,
   "id": "0429d78b-bf35-46f8-b220-f25079104423",
   "metadata": {},
   "outputs": [
    {
     "data": {
      "text/plain": [
       "array([ 31.6,   nan,  19.9,  16.3,  24.6,  20.5,  33.7,  26.6,  24.3,\n",
       "        40. ,  35.8,  20.3,  28.3,  38.7,  39.4,  34. ,  40.4,  45.7,\n",
       "        42. ,  37.8,  25.2,  19.5,  41.3,  29.2,  33.8,  42.5,  26.3,\n",
       "        39.9,  26.5,  30.8,  37.4,  23.9,  37.5,  38.9,  35.4,  37.6,\n",
       "        46.2,  41. ,  31.5,  32.8,  37.1,  35.3,  30.5,  30.7,  34.1,\n",
       "        29.3,  30.3,  35.6,  33.3,  27.8,  32.3,  30.1,  44.8,  34.9,\n",
       "        27.5,  50.3,  22.5,  21.6,  15.2,  30.4,  36.6,  41.8,  24.5,\n",
       "        33.6,  45.4,  21.8,  27.7,  33.1,  44. ,  48. ,  29.1,  50. ,\n",
       "        42.1,  38.2,  44.7,  37.2,  97. ,  48.4,  47.3,  36.3,  44.6,\n",
       "        43.2,  32.9,  28. ,  32.4,  34.5, 100. ,  37.7,  43.3,  64.6,\n",
       "        91.8,  57.1,  52.5,  30.2,  39.8,  28.2,  23.5,  31.2,  45.2,\n",
       "        40.3,  29.5,  23.3,  25.8,  36. ,  46.9,  30.9,  47.1,  37.9,\n",
       "        22.1,  41.7,   4.2,  42.2,  67.2,  34.3,  28.5,  51.8,  82.8,\n",
       "        58.1,  86.9,  98. ,  58.2,  28.8,  34.6,  27.3,  54.8,  28.1,\n",
       "        59.2,  58.9,  21.2,  38.3,  47.7,  35.2,  27.6,  32. ,  39.3,\n",
       "        42.3,  33.2,  48.7,  36.1,  33.4,  27.2,  29.4,  22.8,  34.7,\n",
       "        20.8,  41.6,  41.1,  50.8,  41.5,  37.3,  34.2,  61.8,  62.8,\n",
       "        48.1,  44.5,  52.4,  50.7,   0. ,   6.8,  60.4,  33. ,  53. ,\n",
       "        68.1,  40.8,  76.1,  42.7,  45.8,  43. ,  49.3,  63.4,  40.6,\n",
       "        31.1,  54.5,  46.6,  27.1,  46.8,  60.2,  45.9,  58.3,  26.8,\n",
       "        56. ,  50.2,  53.1,  39.7,  75.7,  36.7,  54.2,  32.5,  29.9,\n",
       "        45.3,  29.7,  19.6,  26.7,  19.7,  24.7,  30. ,  16.6,  40.9,\n",
       "        21.9,  22.4,  25.5,  36.8,  52.2,  92.3,  26. ,  43.4,   7.5,\n",
       "        43.1,  55.9,  32.6,  26.2,  27. ,  51.4,  22.2,  49.4,  18.9,\n",
       "        17.9,  24.4,  15.5,  28.9,  35.1,  25.6,  32.2,  31.8,  42.8,\n",
       "        21.1,  31.7,  38.4,  28.6,  38.6,  24.1,  29.8,  23.8,  35.7,\n",
       "        27.4,  28.4,  18.8,  21.3,  20.1,  51. ,  39.6,  33.9,  58.8,\n",
       "        30.6,  25.9,  25.1,  65.5,  41.4,  18.6,  23.2,  25.4,  19.3,\n",
       "        38.8,  39.5,  25. ,  46.1,   2.3,   2.4,  24.8,  89. ,  64.1,\n",
       "        59.5,  48.6,  29.6,  62.7,  22.9,  46.7,  26.1,  17.1,  18.5,\n",
       "        29. ,  31.4,  17.5,  17.8,  17.4,  23.7,  42.6,  37. ,  48.9,\n",
       "        32.1,  23.4,  40.1,  71.5,  52.6,  35. ,  38.5,  34.4,  56.3,\n",
       "        31.3,  43.8,  31. ,   3.8,  39. ,  23.6,  44.1,  73.6,  32.7,\n",
       "        56.8,  13.8,  21.5,  22.6,  26.4,  24. ,  19.8,  31.9,  20.4,\n",
       "        19. ,  13.5,  21. ,  14.9,  93.2,  25.3,  21.7,  26.9,  45. ,\n",
       "         9.3,   0.4,  68. ,  19.1,  22. ,  15.3,  11.9,   9.8,  12.7,\n",
       "        16.5,  15.4,  10.2,  14.5,  15.6,  19.4,  12.9,  15. ,  18.7,\n",
       "        13.1,  10.4,  11. ,   8.9,   9.9,  10.9,   8.7,   7.7,   9.4,\n",
       "        13.3,  12.3,  11.2,  12.5,  16.1,  14.3,   7.9,  15.7,  10.1,\n",
       "        11.1,  10.7,  12.1,  16.8,  11.3,  12.2,  11.7,  18.3,  11.5,\n",
       "        10. ,   9.2,  12. ,   6.7,  13.4,  10.3,  13. ,   8.5,   9.6,\n",
       "        12.6,   9.5,  13.6,   9. ,  12.4,   8.6,   9.7,  11.4,  13.7,\n",
       "        10.8,  11.8,   4.7,   9.1,   1.4,  10.6,  10.5,   8.8,  11.6,\n",
       "         8.2,   6.3,  50.1,  14.1,   6.6,  20.2,  13.2,  14.8,  12.8,\n",
       "        17. ,   5.7,   8. ,   6.9,   8.4,   6. ,  17.6,  17.3,   7.8,\n",
       "        15.8,   8.1,  14.2,  41.2,  49.6,  27.9,  36.2,  36.4,  50.9,\n",
       "        44.3,  52.9,  39.1,  46.5,  51.1,  49.8,  54.7,  50.6,  53.2,\n",
       "        43.5,  48.3,  44.4,  45.5,  52. ,  51.7,  57.5,  52.1,  52.3,\n",
       "        47.6,  56.9,  40.2,  42.4,   6.4,   7.4,  59.1,  62.5,  63.8,\n",
       "        63.6,  50.5,  47.8,  57.4,  44.9,  48.2,  67.9,  60. ,  47.9,\n",
       "        60.1,  52.7,  54. ,  55.7,  45.1,  48.5,  58.6,  61.3,  54.9,\n",
       "        90.7,  49.1,  55.5,   1.2,  63.5,  38.1,  23. ,  36.9,  53.8,\n",
       "        53.9,  47.4,  70. ,  49.9,  62.4,  57.7,  47.2,  47.5,  43.9,\n",
       "        54.4,  55.2,  58.4,  51.9,  50.4,  58. ,  34.8,  43.7,  44.2,\n",
       "        56.5,  28.7,  49.7,  46.4,  47. ,  83.9,  73.7,  59.6,  43.6,\n",
       "        54.3,  49. ,  52.8,  61.9,  60.7,  53.5,  61.7,  61.5,  72.9,\n",
       "         2.1,  18.2,  40.5,  15.1,  57.6,  42.9,  46. ,  40.7,  35.5,\n",
       "        41.9,  25.7,  35.9,  49.5,  87.6,  59.9,   2.6,  45.6,  46.3,\n",
       "        94.3,  72.4,  55.1,  74.2,  38. ,  53.7,  56.7,  80.7,  60.9,\n",
       "        56.1,  70.2,  55. ,  60.3,  80.8,  20.9,  22.7,  17.7,  16.4,\n",
       "        90.2,  53.4,  36.5,  54.6,  63.2,  95.7,  51.3,  88.7,  51.6,\n",
       "        58.5,  24.2,  20. ,  18.1,  61.1,  74.9,  82.2,  66.4,  39.2,\n",
       "        87.9,  62.9,  51.2,  16.7,   6.5,  60.5,  16.2,  14. ,  14.4,\n",
       "        19.2,  17.2,   8.3,  15.9,  14.7,  16. ,  18. ,   1.7,   3.5,\n",
       "        13.9,  22.3,  14.6,  16.9,  18.4,  33.5,  58.7,  72.3,  80.2,\n",
       "         5.1,  89.6,  61.4,  84.5,  54.1,  48.8,  55.8,  21.4,  86.1,\n",
       "        56.2,  92.6,  55.3,  49.2,  57.2,  62.3,   7. ,  69.1,  63.3,\n",
       "        64.8,  65.3,  63.1,  56.6,  69.8,   5.5,  85.5,  74.1,  20.7,\n",
       "        84.3,  99.1,  79.9,  67.3,  66.9,  78.9,  98.4,  51.5,  61. ,\n",
       "        61.2,  93.7,  60.6,  66.7,  64.7,  78. ,  20.6,  56.4,  73.9,\n",
       "        66.2,  69.2,  65.9,  70.6,  72.5,   5.6,   5.9,   5.4,   6.1,\n",
       "         7.1,   5. ,   3.6,   4.9,   3.9,   7.2,   6.2,   7.6,   7.3,\n",
       "         4.3,   4.6,   3.3,   5.3,   4.8,   2.9,   2.5,   1.8,   3.4,\n",
       "         2.2,   3.1,   5.8,   3.7,  53.6,  65.2,  67.5,  70.7,  55.6,\n",
       "        65.8,  64.9,  65.4,  59.4,  55.4,  81.4,  68.4,  62.6,  82.9,\n",
       "        70.5,  82.7,  74.6,  53.3,  57. ,  59. ,  83.3,  74.3,  99.7,\n",
       "        76.3,  77.2,  66.6,  75.1,  75. ,  66.1,  61.6,  65.1,  57.8,\n",
       "        74.8,  67.4,  59.7,  64.4,  59.8,  23.1,  63. ,  57.3,  72.2,\n",
       "        73.1,  73.3,  68.6,  64. ,   0.7,  65.6,  24.9,  64.5,   4. ,\n",
       "         2.8,  60.8,  69.4,  62. ,  71.9,  62.2,  68.9,  71.1,  86.4,\n",
       "        59.3,  80.3,  64.2,  80.1,  66.5,  79.8,  75.5,  87.8,  86.3,\n",
       "        69.5,  86.2,  68.8,  91.1,  83.7,  85.1,  72.7,  96. ,  75.2,\n",
       "        78.6,  78.4,  66.3,   1.9,   5.2,   1. ,   4.1,  74.4,  72.6,\n",
       "        71.3,  71.6,  84.4,  70.1,  76.8,  72.8,  73. ,  66.8,  77.8,\n",
       "         2. ,  92.5,  92.2,  69.7,  64.3,  66. ,  57.9,  74. ,   2.7,\n",
       "        63.9,  74.7,  65. ,  79.4,  69. ,  69.9,  62.1,  68.5,  70.9,\n",
       "        81.9,  80.9,  63.7,  81.8,  71.4,  85.9,  72. ,  77.4,  67.1,\n",
       "        76.7,  74.5,  68.3,  78.2,  77.6,  77. ])"
      ]
     },
     "execution_count": 18,
     "metadata": {},
     "output_type": "execute_result"
    }
   ],
   "source": [
    "df[\"Data_Value_Alt\"].unique()"
   ]
  },
  {
   "cell_type": "code",
   "execution_count": 19,
   "id": "7111c0b2-4412-4618-999e-ba256fc86fee",
   "metadata": {},
   "outputs": [
    {
     "data": {
      "text/plain": [
       "array([nan, '****', '~', '&', '#'], dtype=object)"
      ]
     },
     "execution_count": 19,
     "metadata": {},
     "output_type": "execute_result"
    }
   ],
   "source": [
    "df[\"Data_Value_Footnote_Symbol\"].unique()"
   ]
  },
  {
   "cell_type": "code",
   "execution_count": 20,
   "id": "32586eb1-521e-4f72-8e26-1e0253568b97",
   "metadata": {},
   "outputs": [
    {
     "data": {
      "text/plain": [
       "0         NaN\n",
       "1        ****\n",
       "2         NaN\n",
       "3        ****\n",
       "4        ****\n",
       "         ... \n",
       "22177    ****\n",
       "22178    ****\n",
       "22179    ****\n",
       "22180     NaN\n",
       "22181     NaN\n",
       "Name: Data_Value_Footnote_Symbol, Length: 22182, dtype: object"
      ]
     },
     "execution_count": 20,
     "metadata": {},
     "output_type": "execute_result"
    }
   ],
   "source": [
    "df[\"Data_Value_Footnote_Symbol\"]"
   ]
  },
  {
   "cell_type": "code",
   "execution_count": 22,
   "id": "41f7ffd0-c5d2-4bfa-a78e-b09de9ee1e4f",
   "metadata": {},
   "outputs": [
    {
     "data": {
      "text/plain": [
       "array([nan,\n",
       "       'Sample size of denominator and/or age group for age-standardization is less than 50 or relative standard error is more than 30%',\n",
       "       'No Data Available',\n",
       "       'Regional estimates may not represent all states in the region',\n",
       "       'Fewer than 50 States reporting'], dtype=object)"
      ]
     },
     "execution_count": 22,
     "metadata": {},
     "output_type": "execute_result"
    }
   ],
   "source": [
    "df[\"Data_Value_Footnote\"].unique()"
   ]
  },
  {
   "cell_type": "code",
   "execution_count": 21,
   "id": "5c5ef5dd-7c89-46b6-9b0f-ef2eb1e3d937",
   "metadata": {},
   "outputs": [
    {
     "data": {
      "text/plain": [
       "array([23.5,  nan, 14. , 10.2, 16.4, 15.1, 20.9, 21. , 18.2, 26.2, 25.2,\n",
       "       13.8, 14.9, 21.6, 30.9, 24. , 26.8, 32.2, 24.9, 26. , 17.8, 11.6,\n",
       "       29.7, 22. , 31.6, 15.3, 17.4, 21.8, 24.8, 17.6, 29.4, 22.8, 19.8,\n",
       "       31. , 34.4, 30.5, 19.3, 26.4, 20.8, 18.6, 21.2, 24.5, 22.6, 21.4,\n",
       "       23.4, 24.4, 19.4, 25.5, 18.3, 34.7, 23.3, 19.2, 37.1, 16.7, 16.2,\n",
       "        9.2, 28.9, 32.7, 17.9, 27. , 35.3, 14.3, 21.7, 29.2, 41.2, 22.5,\n",
       "       41. , 35.6, 33.5, 37.4, 83.8, 40.9, 26.3, 30.1, 37.2, 15.2, 37.8,\n",
       "       27.6, 30.7, 34. ,  7.1, 44.5, 73.2, 42.7, 30.2, 33.8, 25.1, 34.1,\n",
       "       19.7, 16.8, 25.9, 33.6, 23.7, 29. , 31.7, 22.3, 20.2, 32.4, 25. ,\n",
       "       33. , 31.8, 28.2, 30.8, 25.3, 18.1, 15. ,  0.5, 32.8, 33.1, 29.3,\n",
       "        6.9, 17. , 27.5, 48. , 78.8, 33.9, 18.7, 29.9, 20.6, 21.5, 39.6,\n",
       "       43.2, 13.6, 12.1, 32. , 25.7, 12.2, 19.5, 19.1, 28.8, 22.4, 28. ,\n",
       "       35. , 27.9, 22.7, 15.4, 23.6, 14.4, 14.6, 18. , 26.1, 31.1, 37. ,\n",
       "       24.1, 34.2, 18.9, 18.4, 24.2, 27.7, 36.6, 28.3, 50.3, 46.8, 40.4,\n",
       "       42.5,  1.4, 29.6,  6.3, 36.5, 47.2, 38.3, 32.6, 39. , 37.5,  6.5,\n",
       "       41.5, 20.4, 28.6, 10.8, 42.3, 40. , 30.4,  7.7, 38.7, 44.3, 40.7,\n",
       "       36.2, 37.9, 29.8, 34.5, 39.4, 22.9, 35.1, 18.5, 24.6, 33.2, 34.6,\n",
       "       28.1, 20.7, 10.4, 25.6, 15.9, 38.6,  3.8, 10.7, 31.5, 15.6, 29.1,\n",
       "        6.7, 57.2, 23.2,  8.6,  2.1, 21.3, 37.3, 20. , 31.9, 20.5, 11.8,\n",
       "        9.5, 12.5, 24.3, 23. , 15.8, 17.2, 12.4, 30.3, 28.4, 27.3, 17.5,\n",
       "       21.1, 11.7, 20.1, 19. , 17.1, 18.8, 31.2, 17.3, 35.7, 21.9, 32.3,\n",
       "       22.1, 13.2, 34.9, 28.7,  9.9, 30. , 26.9, 24.7, 11.3, 27.2,  0.2,\n",
       "       48.1,  3.3, 16. , 46.3, 45. ,  7.8, 16.5, 15.7,  9.6, 10.3, 13.1,\n",
       "       16.3, 17.7, 11.2, 16.9, 27.4, 27.1, 13.4, 10.6, 42.4, 14.2, 28.5,\n",
       "        4. , 31.4, 19.9, 26.6,  0.9, 25.4, 23.9,  6.8, 32.9,  4.8, 14.1,\n",
       "       19.6, 14.7,  8.2,  9.7, 10.9, 59.6, 16.1, 20.3,  8.8, 10. ,  2. ,\n",
       "        0. , 12.6, 10.1, 12.9,  6.1, 11.9, 15.5,  7.3,  5.9,  8.1,  7.6,\n",
       "        9. ,  4.9,  5.5,  7. ,  9.4,  8.9,  9.8,  6.2,  8.5,  6. ,  9.1,\n",
       "        7.9,  5.7,  8.7,  9.3, 10.5, 11.4, 11.1,  6.4,  7.5,  8.3,  6.6,\n",
       "        3.7,  1.5,  5.4,  1.2,  0.3,  5.1,  2.2,  8. ,  5.3,  4.2, 13.5,\n",
       "        1.8,  8.4, 11.5,  7.2,  2.7,  4.3,  3.2, 12.3, 11. ,  4.6,  4.4,\n",
       "        2.8,  5.8, 32.5, 34.8, 29.5, 33.3, 40.5, 36.7, 39.3, 43.6, 40.3,\n",
       "       33.7, 43.9, 41.3, 37.7, 36.4, 39.5, 39.9, 30.6, 44.1, 47.7,  1.3,\n",
       "       45.9, 49.6, 41.9,  2.4, 39.7, 41.6, 56.9, 43.4, 49. , 52.5, 51. ,\n",
       "       52.7, 48.5, 42.9, 38.4, 39.1, 42.1, 45.6,  3. , 47.6, 48.2, 38.1,\n",
       "        0.1, 44.2, 47.5, 37.6, 36.3, 36.8, 38. , 35.5, 55.6, 50.4, 47.1,\n",
       "       45.3, 31.3, 47.8, 46. , 40.1, 38.5, 36.1, 42.2, 45.4, 48.9, 43.3,\n",
       "       48.3, 49.9, 47. , 46.1, 43.5, 40.2,  3.4, 36. , 42.8, 55.4, 44.4,\n",
       "        5.6, 44.7, 41.4, 46.2,  4.5,  3.1, 41.1,  1.7, 40.8, 44.9, 42.6,\n",
       "       43. , 26.5, 42. , 35.4, 34.3, 49.7, 51.2, 47.4, 46.4, 52.8, 38.9,\n",
       "       26.7, 32.1, 35.9, 25.8, 22.2, 27.8, 23.1, 33.4, 71.4, 43.8, 48.7,\n",
       "       13.3, 41.8, 35.2, 41.7, 44. , 39.2, 38.2, 44.8, 16.6, 14.8, 13.9,\n",
       "        0.7, 56.5, 64.6, 59.5, 52. , 67.7,  5. , 23.8, 12. , 13.7, 12.8,\n",
       "        7.4, 12.7,  2.3,  0.4,  2.6, 13. , 36.9, 45.2, 39.8, 35.8, 51.9,\n",
       "       64.5, 45.8,  4.7, 68.8,  1.9, 38.8, 40.6,  3.9, 44.6, 94.6, 57.9,\n",
       "       50.7, 92.4, 72.3, 56.6,  2.9, 14.5, 52.4, 49.8, 48.8,  4.1,  3.5,\n",
       "        3.6,  5.2,  1.1,  1.6,  0.6, 46.6, 43.1, 45.7, 54.5, 43.7, 48.6,\n",
       "       51.3, 46.5, 58.3, 45.1, 52.3, 49.5, 47.9, 46.7, 49.1, 97.1, 60.8,\n",
       "       58.8, 53.7, 54.9, 51.6, 51.7, 50. , 54.6, 54.8, 53.1, 49.4, 52.9,\n",
       "       50.1, 58.5, 58.1, 53.8, 52.1, 53.2, 57.4, 55. , 51.5, 50.9, 50.2,\n",
       "       47.3,  0.8, 46.9, 51.1, 45.5, 50.8, 60.2, 57.1, 56. , 53.4, 48.4,\n",
       "       53.3, 49.2, 50.5, 53.9, 53.5, 62.9, 56.4, 68.5, 68.6, 49.3, 65.4,\n",
       "       61.6, 64.9, 64.8, 55.2, 55.1, 57.7, 59.3, 66.4, 51.4, 50.6, 77.4,\n",
       "       63. , 52.6, 69.5,  2.5, 56.3, 63.4, 53. , 51.8, 54.7, 54.2, 65.1,\n",
       "       70.3, 61.7, 72.2, 62.2, 52.2, 55.3, 59. , 63.8, 65.3, 65.8, 59.1,\n",
       "       63.3, 60.1, 60.5, 66.2])"
      ]
     },
     "execution_count": 21,
     "metadata": {},
     "output_type": "execute_result"
    }
   ],
   "source": [
    "df[\"Low_Confidence_Limit\"].unique()"
   ]
  },
  {
   "cell_type": "code",
   "execution_count": 23,
   "id": "9d6e9681-5e78-4377-b1b9-37c3f69e13ea",
   "metadata": {},
   "outputs": [
    {
     "data": {
      "text/plain": [
       "array([ 41. ,   nan,  27.3,  25. ,  35.2,  27.2,  49.4,  33. ,  31.6,\n",
       "        55.6,  47.9,  28.7,  47.1,  59. ,  48.6,  45.7,  55.8,  59.8,\n",
       "        61.1,  51.2,  34.5,  31. ,  53.8,  46.6,  48.1,  54.2,  41.5,\n",
       "        54.6,  43.1,  38.2,  41.7,  52.1,  31.5,  45.9,  49.3,  50.5,\n",
       "        59.6,  48.7,  61.2,  58.4,  52.5,  47. ,  39.9,  57. ,  47.6,\n",
       "        45.6,  42.2,  45.2,  37. ,  42.5,  50.1,  43.5,  45.3,  55.3,\n",
       "        37.7,  63.5,  29.6,  28.3,  24.1,  36.2,  37.9,  44.9,  51.4,\n",
       "        32.7,  40.9,  55.9,  31.9,  34.6,  43. ,  60. ,  54.9,  36.7,\n",
       "        59.1,  48.8,  52.2,  99.5,  56. ,  74.8,  69.3,  47.2,  78.3,\n",
       "        38.7,  36.4,  37.6,  38.6,  88.4,  80.6,  97.9,  70.4,  46. ,\n",
       "        70.6,  35.8,  31.7,  57.3,  49.6,  44.3,  37.8,  29.2,  32.4,\n",
       "        49. ,  57.5,  61.4,  48. ,  42.9,  64.1,  52.3,  31.2,  48.4,\n",
       "        29.5,  50.4,  89.4,  43.2,  68.4,  84.9,  98.1,  83.5,  99.8,\n",
       "        79.1,  39.6,  35.1,  78.2,  35.9,  76.2,  34. ,  72.9,  31.3,\n",
       "        31.1,  64. ,  45.8,  48.3,  50.9,  53.5,  53.2,  46.1,  44.8,\n",
       "        48.2,  46.7,  47.4,  56.8,  36.3,  37.2,  32.3,  46.4,  50.7,\n",
       "        39.8,  44.2,  34.4,  35. ,  56.9,  51.9,  64.4,  57.1,  36.8,\n",
       "        34.9,  37.4,  46.2,  46.8,  40.5,  72.2,  58.8,  76.5,  54.7,\n",
       "        58.9,  27. ,  84.7,  42.3,  68.3,  80.4,  95.3,  72.6,  28.6,\n",
       "        91.9,  43.4,  60.3,  43.6,  56.1,  41.3,  54.1,  42.7,  59.7,\n",
       "        83.3,  47.5,  46.5,  33.1,  67.8,  66.9,  59.9,  75.7,  52. ,\n",
       "        81.8,  61.7,  47.7,  67.1,  43.8,  44. ,  27.4,  67.7,  39.2,\n",
       "        94.9,  43.9,  38.3,  30. ,  38. ,  53.3,  58.3,  62.5,  25.4,\n",
       "        57.4,  38.9,  52.4,  35.4,  25.2,  47.8,  29.4,  39.1,  67.2,\n",
       "        87.7,  74.4,  26. ,  45.1,  73.8,  65.9,  99.1,  83.9,  41.6,\n",
       "        30.8,  68.5,  57.6,  23.9,  55.2,  73. ,  31.8,  30.7,  33.6,\n",
       "        32.1,  66. ,  69.2,  25.3,  26.2,  24.2,  53.9,  24.9,  52.7,\n",
       "        49.5,  40.2,  38.8,  45.4,  40.7,  44.5,  57.9,  33.5,  41.1,\n",
       "        51.3,  32.2,  64.9,  58.1,  54.4,  36.9,  42.6,  35.7,  39. ,\n",
       "        28.8,  36.1,  29.7,  28.5,  27.1,  35.5,  38.1,  44.4,  66.2,\n",
       "        41.2,  42.4,  36. ,  78.6,  40.8,  42.1,  76.8,  62.8,  81.7,\n",
       "        67.6,  85.8,  87.9,  32.9,  34.2,  73.5,  27.5,  33.4,  29.1,\n",
       "        49.2,  25.5,  30.1,  53. ,  41.9,  44.6,  23.5,  22. ,  58.6,\n",
       "        98.6,  40.6,  77.6,  78.7,  71.3,  27.8,  34.8,  88.6,  85.3,\n",
       "        72.3,  30.9,  40. ,  42. ,  30.3,  44.1,  51.5,  25.8,  56.6,\n",
       "        43.7,  52.6,  48.9,  65.4,  37.1,  30.4,  43.3,  59.2,  34.3,\n",
       "        64.5,  72.8,  77.3,  89.5,  92.9,  85.1,  41.8,  79.7,  29.3,\n",
       "        14.9,  74.6,  38.4,  32.6,  26.9,  94.2,  36.6,  29.8,  32.8,\n",
       "        80.5,  33.2,  33.8,  25.1,  26.8,  39.4,  32.5,  34.7,  35.6,\n",
       "        26.1,  23.8,  21.5,  18.7,  20.1,  35.3,  99.2,  87.4,  63.9,\n",
       "         3.3,  58.7,  92.5,  27.9,  24. ,  27.7,  26.7,  18.8,  17.6,\n",
       "        14.1,  15.9,  19. ,  18.3,  16.7,  20.7,  19.9,  21.8,  17.1,\n",
       "        17.2,  16.1,  15.4,  13.2,  13.8,  12.8,  12.9,  15. ,  10.7,\n",
       "        12.6,  16.8,  15.5,  21.4,  13.9,  11.4,  12. ,  14.5,  22.8,\n",
       "        14. ,  13.3,  17. ,  14.4,  11.6,  16.2,   9.3,  15.7,  14.6,\n",
       "        16.9,  20. ,  12.3,  16.4,  12.5,  15.6,  15.8,  13.6,  13.4,\n",
       "        12.4,  11.9,  12.2,  14.8,  11. ,  11.7,  20.2,  19.8,  16. ,\n",
       "        13.5,   5.9,  11.8,  12.1,  13. ,  11.1,  10.9,  10.6,  10.5,\n",
       "        11.3,  11.5,  10.8,  18.4,  14.2,  26.6,  81.9,  17.5,  59.4,\n",
       "        20.8,  11.2,  14.3,  18.9,  20.5,  17.7,  17.3,  16.6,  18.1,\n",
       "        20.3,  18.2,  12.7,  13.1,  15.3,  15.1,  22.5,  14.7,  32. ,\n",
       "         9.6,  20.9,  16.5,  46.3,  10.3,  15.2,  18. ,  21. ,  10. ,\n",
       "        10.1,   9.9,  22.6,  19.2,  23.7,  22.9,  10.2,  21.6,  49.8,\n",
       "        55.1,  62.6,  54. ,  39.7,  60.6,  66.6,  51.1,  49.9,  58.5,\n",
       "        62.2,  63.1,  66.4,  57.7,  49.1,  67.5,  60.4,  61.9,  46.9,\n",
       "        70.1,  50.3,  67.4,  62. ,  50. ,  56.7,  56.5,  49.7,  47.3,\n",
       "        78.1,  50.6,  65.5,  85.4,  79.8,  83.6,  50.2,  51. ,  61. ,\n",
       "        70.3,  55.7,  65.2,  59.5,  71.1,  57.8,  81.3,  77.2,  73.6,\n",
       "        63.7,  88.2,  60.9,  71.7,  69.8,  56.4,  61.5,  73.2,  60.2,\n",
       "        81.4,  69.7,  61.6,  54.3,  50.8,  62.7,  53.1,  64.7,  65.1,\n",
       "        67.3,  67. ,  75.4,  55. ,  69.9,  55.4,  64.3,  58.2,  51.6,\n",
       "        66.1,  95.7,  90.8,  86.4,  82.9,  69.4,  68.7,  28.9,  53.4,\n",
       "        58. ,  65.6,  52.9,  72.7,  69.5,  62.1,  73.3,  91.3,  80.1,\n",
       "        86. ,  53.7,  64.2,  71. ,  42.8,  60.7,  48.5,  51.8,  40.4,\n",
       "        33.7,  33.9,  57.2,  72.5,  63. ,  40.3,  41.4,  45. ,  39.3,\n",
       "        37.5,  77.1,  51.7,  81.1,  91.6,  98. ,  90.4,  19.7,  56.2,\n",
       "        67.9,  84.2,  70. ,  95.9,  74.1,  89.7,  63.8,  86.2,  64.8,\n",
       "        56.3,  62.9,  30.5,  68.8,  86.1,  96.7,  61.3,  71.4,  39.5,\n",
       "        68.2,  66.5,  80. ,  97.6,  66.8,  79.6,  24.7,  63.6,  60.5,\n",
       "        70.7,  36.5,  28.2,  66.3,  98.5,  62.4,  34.1,  54.8,  65. ,\n",
       "        74.5,  69. ,  93.8,  83.4,  99.6,  86.3,  75.5,  65.7,  83.7,\n",
       "        97.7,  33.3,  77.8,  44.7,  73.9,  62.3,  27.6,  28.4,  30.6,\n",
       "        60.1,  80.2,  83.1,  95.2,  81.5,  60.8,  76.9,  96.2,  78.8,\n",
       "        29.9,  68.9,  77.9,  19.5,  13.7,  20.6,  17.9,  18.5,  21.2,\n",
       "        19.4,  17.4,   6.9,  23. ,  19.6,  65.3,  21.9,   9.8,  38.5,\n",
       "        17.8,  21.1,  23.3,  20.4,  22.2,  19.1,  24.6,  22.4,  22.3,\n",
       "        25.6,  53.6,  63.3,  37.3,  98.9,  87.5,  52.8,  45.5,  98.4,\n",
       "        54.5,  99.4,  98.3,  64.6,  55.5,  59.3,  63.4,  66.7,  24.8,\n",
       "        68. ,  91.7,  63.2,  91.1,  81.2,  85.7,  88. ,  95. ,  68.6,\n",
       "        94.6,  72.1,  97.8,  80.7,  70.8,  93.2,  71.6,  97.3,  25.9,\n",
       "        28. ,  99.9,  92. ,  40.1,  76.1,  93.9,  94.5,  94.8,  99.7,\n",
       "        23.2,  31.4,  79.5,  74. ,  74.3,  82.1,  98.8,  84.3,  91.2,\n",
       "        72. ,  77.7,  90.6,  61.8,  69.1,  75.8,  71.5,  92.6,  89.6,\n",
       "        81. ,  92.8,  83.2,  89.8,  92.1,  93.7,  94. ,  72.4,  71.9,\n",
       "        76.6,  76. ,  65.8,  77. ,  25.7,   9.4,  10.4,   8.9,   8.8,\n",
       "        21.3,   8.2,   8.1,   7.5,   6.4,   5.7,   7.3,   6.8,   7.9,\n",
       "         5.6,   7.8,   8.6,   7.6,   6.3,   9.7,   9.2,   8.7,   8.5,\n",
       "         8.3,   9.5,   9.1,   9. ,   6.6,   7.7,   8.4,   6.7,  26.4,\n",
       "        21.7,  18.6,   8. ,  22.7,   4.9,   7.4,   4.7,  23.1,   2.7,\n",
       "         2.1,  68.1,  82.5,  90.1,  93.1,  75.6,  70.2,  87.3,  88.7,\n",
       "        92.3,  91.8,  76.7,  79.4,  75.2,  73.7,  74.7,  76.4,  75. ,\n",
       "        97.1,  97. ,  82.2,  92.7,  23.4,  26.5,  75.1,  96.9,  95.6,\n",
       "        87.1,  87.8, 100. ,  86.9,  91.5,  88.9,  90.7,  77.4,  88.1,\n",
       "        28.1,  76.3,  93.6,  74.2,  70.5,  84.5,  86.5,  74.9,  78.4,\n",
       "        87.2,  71.8,  82. ,  23.6,  24.5,  26.3,  78. ,  79.3,  89.9,\n",
       "        77.5,  73.4,  91. ,  82.7,  30.2,  22.1,  16.3,  24.3,   1.8,\n",
       "         7.1,   7.2,  19.3,  78.9,  69.6,  84.6,  75.3,  70.9,  86.6,\n",
       "        82.6,  85. ,  87.6,  75.9,  84.1,  99. ,  85.9,  98.2,  83.8,\n",
       "        82.8,  80.8,  82.3,  89.2,  71.2,  88.3,  88.8,  24.4,  80.9,\n",
       "        98.7,  79.2,  90.9,  97.5,  85.5,  82.4,  84.4,  79.9,  84. ,\n",
       "        29. ,  85.2,  99.3,  84.8,   6. ,   7. ,   5.8,   4.8,   5. ,\n",
       "        94.1,  94.4,  81.6,  96.1,  78.5,  95.1,  73.1,  85.6,  83. ,\n",
       "        90.3,  87. ,  96.6,  95.5,  97.2,  86.7,  96.8,  94.3])"
      ]
     },
     "execution_count": 23,
     "metadata": {},
     "output_type": "execute_result"
    }
   ],
   "source": [
    "df[\"High_Confidence_Limit\"].unique()"
   ]
  },
  {
   "cell_type": "code",
   "execution_count": 24,
   "id": "80eeb001-ee4b-4a1f-b307-fbe0ce07e515",
   "metadata": {},
   "outputs": [
    {
     "data": {
      "text/plain": [
       "array(['Age Group'], dtype=object)"
      ]
     },
     "execution_count": 24,
     "metadata": {},
     "output_type": "execute_result"
    }
   ],
   "source": [
    "df[\"StratificationCategory1\"].unique()"
   ]
  },
  {
   "cell_type": "code",
   "execution_count": 25,
   "id": "140ee7c7-16ac-466a-9520-bb429090666e",
   "metadata": {},
   "outputs": [
    {
     "data": {
      "text/plain": [
       "array(['Overall', '50-64 years', '65 years or older'], dtype=object)"
      ]
     },
     "execution_count": 25,
     "metadata": {},
     "output_type": "execute_result"
    }
   ],
   "source": [
    "df[\"Stratification1\"].unique()"
   ]
  },
  {
   "cell_type": "code",
   "execution_count": 26,
   "id": "ebd2cf6b-9c7d-4dce-b041-05695942389a",
   "metadata": {},
   "outputs": [
    {
     "data": {
      "text/plain": [
       "array(['Gender', 'Race/Ethnicity', nan], dtype=object)"
      ]
     },
     "execution_count": 26,
     "metadata": {},
     "output_type": "execute_result"
    }
   ],
   "source": [
    "df[\"StratificationCategory2\"].unique()"
   ]
  },
  {
   "cell_type": "code",
   "execution_count": 27,
   "id": "8356d61d-1576-49a4-91ef-7451d2bf2a8c",
   "metadata": {},
   "outputs": [
    {
     "data": {
      "text/plain": [
       "array(['Female', 'Hispanic', 'White, non-Hispanic',\n",
       "       'Native Am/Alaskan Native', 'Black, non-Hispanic', 'Male', nan,\n",
       "       'Asian/Pacific Islander'], dtype=object)"
      ]
     },
     "execution_count": 27,
     "metadata": {},
     "output_type": "execute_result"
    }
   ],
   "source": [
    "df[\"Stratification2\"].unique()"
   ]
  },
  {
   "cell_type": "code",
   "execution_count": 28,
   "id": "4e2ddcb2-f323-4877-a079-9e314d566e67",
   "metadata": {},
   "outputs": [
    {
     "data": {
      "text/plain": [
       "array(['POINT (-111.7638113 34.86597028)',\n",
       "       'POINT (-120.9999995 37.63864012)',\n",
       "       'POINT (-72.64984095 41.56266102)',\n",
       "       'POINT (-81.92896054 28.93204038)',\n",
       "       'POINT (-93.81649056 42.46940091)',\n",
       "       'POINT (-114.36373 43.68263001)',\n",
       "       'POINT (-86.14996019 39.76691045)', nan,\n",
       "       'POINT (-68.98503134 45.25422889)',\n",
       "       'POINT (-84.71439027 44.66131954)',\n",
       "       'POINT (-117.0718406 39.49324039)',\n",
       "       'POINT (-82.40426006 40.06021014)',\n",
       "       'POINT (-120.1550313 44.56744942)',\n",
       "       'POINT (-71.52247031 41.70828019)',\n",
       "       'POINT (-81.04537121 33.9988213)',\n",
       "       'POINT (-111.5871306 39.36070017)',\n",
       "       'POINT (-78.45789046 37.54268067)',\n",
       "       'POINT (-72.51764079 43.62538124)',\n",
       "       'POINT (-89.81637074 44.39319117)',\n",
       "       'POINT (-106.1336109 38.84384076)', 'POINT (-77.036871 38.907192)',\n",
       "       'POINT (-83.62758035 32.83968109)',\n",
       "       'POINT (-157.8577494 21.30485044)',\n",
       "       'POINT (-76.60926011 39.29058096)',\n",
       "       'POINT (-89.53803082 32.7455101)',\n",
       "       'POINT (-75.54397043 42.82700103)',\n",
       "       'POINT (-97.52107021 35.47203136)',\n",
       "       'POINT (-77.86070029 40.79373015)',\n",
       "       'POINT (-85.77449091 35.68094058)',\n",
       "       'POINT (-99.42677021 31.82724041)',\n",
       "       'POINT (-147.722059 64.84507996)',\n",
       "       'POINT (-92.27449074 34.74865012)',\n",
       "       'POINT (-75.57774117 39.00883067)',\n",
       "       'POINT (-88.99771018 40.48501028)',\n",
       "       'POINT (-84.77497105 37.64597027)',\n",
       "       'POINT (-79.15925046 35.46622098)',\n",
       "       'POINT (-71.50036092 43.65595011)', 'POINT (-66.590149 18.220833)',\n",
       "       'POINT (-120.4700108 47.52227863)',\n",
       "       'POINT (-108.1098304 43.23554134)',\n",
       "       'POINT (-86.63186076 32.84057112)',\n",
       "       'POINT (-98.20078123 38.3477403)',\n",
       "       'POINT (-92.44568007 31.31266064)',\n",
       "       'POINT (-94.7942005 46.35564874)',\n",
       "       'POINT (-92.56630005 38.63579078)',\n",
       "       'POINT (-100.118421 47.47531978)',\n",
       "       'POINT (-99.36572062 41.64104099)',\n",
       "       'POINT (-106.240581 34.52088095)',\n",
       "       'POINT (-100.3735306 44.35313005)',\n",
       "       'POINT (-80.71264013 38.6655102)',\n",
       "       'POINT (-74.27369129 40.13057005)',\n",
       "       'POINT (-72.08269067 42.27687047)',\n",
       "       'POINT (-109.4244206 47.06652897)'], dtype=object)"
      ]
     },
     "execution_count": 28,
     "metadata": {},
     "output_type": "execute_result"
    }
   ],
   "source": [
    "df[\"Geolocation\"].unique()"
   ]
  },
  {
   "cell_type": "code",
   "execution_count": 29,
   "id": "3e0b47cf-ff7e-4a10-b46c-47bcba6a0f96",
   "metadata": {},
   "outputs": [
    {
     "data": {
      "text/plain": [
       "array(['C06'], dtype=object)"
      ]
     },
     "execution_count": 29,
     "metadata": {},
     "output_type": "execute_result"
    }
   ],
   "source": [
    "df[\"ClassID\"].unique()"
   ]
  },
  {
   "cell_type": "code",
   "execution_count": 30,
   "id": "c94b4d19-ebe4-44c0-94d8-7e795fb1b772",
   "metadata": {},
   "outputs": [
    {
     "data": {
      "text/plain": [
       "array(['TCC02', 'TCC03', 'TCC01', 'TCC04'], dtype=object)"
      ]
     },
     "execution_count": 30,
     "metadata": {},
     "output_type": "execute_result"
    }
   ],
   "source": [
    "df[\"TopicID\"].unique()"
   ]
  },
  {
   "cell_type": "code",
   "execution_count": 31,
   "id": "d31dad21-ec8e-44db-a178-ac5107948c91",
   "metadata": {},
   "outputs": [
    {
     "data": {
      "text/plain": [
       "array(['Q31', 'Q41', 'Q30', 'Q42'], dtype=object)"
      ]
     },
     "execution_count": 31,
     "metadata": {},
     "output_type": "execute_result"
    }
   ],
   "source": [
    "df[\"QuestionID\"].unique()"
   ]
  },
  {
   "cell_type": "code",
   "execution_count": 32,
   "id": "e15ae252-8ecb-46c9-9853-f9f12fa072bb",
   "metadata": {},
   "outputs": [
    {
     "data": {
      "text/plain": [
       "0        Q31\n",
       "1        Q31\n",
       "2        Q31\n",
       "3        Q31\n",
       "4        Q31\n",
       "        ... \n",
       "22177    Q42\n",
       "22178    Q42\n",
       "22179    Q42\n",
       "22180    Q42\n",
       "22181    Q42\n",
       "Name: QuestionID, Length: 22182, dtype: object"
      ]
     },
     "execution_count": 32,
     "metadata": {},
     "output_type": "execute_result"
    }
   ],
   "source": [
    "df[\"QuestionID\"]"
   ]
  },
  {
   "cell_type": "code",
   "execution_count": 33,
   "id": "df353182-b7a0-4ac8-ad24-b5ae9fba67cf",
   "metadata": {},
   "outputs": [
    {
     "data": {
      "text/plain": [
       "array([   4,    6,    9,   12,   19,   16,   18, 9002,   23,   26, 9001,\n",
       "         32,   39,   41,   44,   45, 9003,   59,   49,   51,   50, 9004,\n",
       "         55,    8,   11,   13,   15,   24,   28,   36,   40,   42,   47,\n",
       "         48,    2,    5,   10,   17,   21,   37,   33,   72,   53,   56,\n",
       "          1,   20,   22,   27,   29,   38,   31,   35,   46,   54,   34,\n",
       "         25,   30])"
      ]
     },
     "execution_count": 33,
     "metadata": {},
     "output_type": "execute_result"
    }
   ],
   "source": [
    "df[\"LocationID\"].unique()"
   ]
  },
  {
   "cell_type": "code",
   "execution_count": 34,
   "id": "fd626712-5be4-4a12-a0c9-f70b0d808146",
   "metadata": {},
   "outputs": [
    {
     "data": {
      "text/plain": [
       "array(['AGE'], dtype=object)"
      ]
     },
     "execution_count": 34,
     "metadata": {},
     "output_type": "execute_result"
    }
   ],
   "source": [
    "df[\"StratificationCategoryID1\"].unique()"
   ]
  },
  {
   "cell_type": "code",
   "execution_count": 35,
   "id": "3963e94b-75b1-444e-b6ba-6e6d01cb9d21",
   "metadata": {},
   "outputs": [
    {
     "data": {
      "text/plain": [
       "array(['AGE_OVERALL', '5064', '65PLUS'], dtype=object)"
      ]
     },
     "execution_count": 35,
     "metadata": {},
     "output_type": "execute_result"
    }
   ],
   "source": [
    "df[\"StratificationID1\"].unique()"
   ]
  },
  {
   "cell_type": "code",
   "execution_count": 36,
   "id": "83526293-5bd9-4df0-a394-9ded220849f4",
   "metadata": {},
   "outputs": [
    {
     "data": {
      "text/plain": [
       "array(['GENDER', 'RACE', 'OVERALL'], dtype=object)"
      ]
     },
     "execution_count": 36,
     "metadata": {},
     "output_type": "execute_result"
    }
   ],
   "source": [
    "df[\"StratificationCategoryID2\"].unique()"
   ]
  },
  {
   "cell_type": "code",
   "execution_count": 37,
   "id": "d9847b62-e1b3-40c1-a88b-6c3ad1910282",
   "metadata": {},
   "outputs": [
    {
     "data": {
      "text/plain": [
       "array(['FEMALE', 'HIS', 'WHT', 'NAA', 'BLK', 'MALE', 'OVERALL', 'ASN'],\n",
       "      dtype=object)"
      ]
     },
     "execution_count": 37,
     "metadata": {},
     "output_type": "execute_result"
    }
   ],
   "source": [
    "df[\"StratificationID2\"].unique()"
   ]
  },
  {
   "cell_type": "code",
   "execution_count": null,
   "id": "5fa6b15a-9f5a-45e0-a0f3-d5f8305c9f90",
   "metadata": {},
   "outputs": [],
   "source": []
  }
 ],
 "metadata": {
  "kernelspec": {
   "display_name": "Python (cognitive-decline)",
   "language": "python",
   "name": "cognitive-decline"
  },
  "language_info": {
   "codemirror_mode": {
    "name": "ipython",
    "version": 3
   },
   "file_extension": ".py",
   "mimetype": "text/x-python",
   "name": "python",
   "nbconvert_exporter": "python",
   "pygments_lexer": "ipython3",
   "version": "3.9.21"
  }
 },
 "nbformat": 4,
 "nbformat_minor": 5
}
